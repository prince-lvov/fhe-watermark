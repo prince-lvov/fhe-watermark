{
 "cells": [
  {
   "cell_type": "markdown",
   "metadata": {},
   "source": [
    "# Image watermarking using Concrete ML by Horaizon27 team"
   ]
  },
  {
   "cell_type": "markdown",
   "metadata": {},
   "source": [
    "### Imports"
   ]
  },
  {
   "cell_type": "code",
   "execution_count": null,
   "metadata": {},
   "outputs": [],
   "source": [
    "import cv2\n",
    "import numpy as np\n",
    "from PIL import Image\n",
    "from concrete import fhe\n",
    "\n",
    "from utils import (\n",
    "    create_watermark_mask, \n",
    "    create_verification_mask,\n",
    "    create_zero_diagonal_mask,\n",
    "    create_inputset_for_circuit,\n",
    "    generate_random_text\n",
    ")"
   ]
  },
  {
   "cell_type": "markdown",
   "metadata": {},
   "source": [
    "### Constants"
   ]
  },
  {
   "cell_type": "code",
   "execution_count": null,
   "metadata": {},
   "outputs": [],
   "source": [
    "IMAGE_SIZE = (128, 128)\n",
    "DCT_BLOCK_SIZE = 8\n",
    "ITERATIONS = 10\n",
    "\n",
    "IMAGES = [\"black128\", \"red128\", \"white128\", \"coala128\", \"philosopher128\", \"robot128\", \"salmon128\", \"space128\"]\n",
    "IMAGE_NAME_PATTERN = \"images/{}.png\"\n",
    "WATERMARKED_IMAGES_NAME_PATTERN = \"watermarked_images/{}_{}.png\""
   ]
  },
  {
   "cell_type": "markdown",
   "metadata": {},
   "source": [
    "## Image watermarking"
   ]
  },
  {
   "cell_type": "markdown",
   "metadata": {},
   "source": [
    "### Load image"
   ]
  },
  {
   "cell_type": "code",
   "execution_count": null,
   "metadata": {},
   "outputs": [],
   "source": [
    "def load_image(image_path, image_size):\n",
    "    image = Image.open(image_path)\n",
    "    if image.mode == \"RGBA\":\n",
    "        image = image.convert(\"RGB\")\n",
    "    image = image.resize(image_size)\n",
    "    return np.asarray(image)"
   ]
  },
  {
   "cell_type": "markdown",
   "metadata": {},
   "source": [
    "### Image preprocessing"
   ]
  },
  {
   "cell_type": "markdown",
   "metadata": {},
   "source": [
    "#### DCT encoding"
   ]
  },
  {
   "cell_type": "code",
   "execution_count": null,
   "metadata": {},
   "outputs": [],
   "source": [
    "def image_dct_encode(img_array):\n",
    "    img_height = img_array.shape[0]\n",
    "    img_width = img_array.shape[1]\n",
    "    img_channels = img_array.shape[2]\n",
    "\n",
    "    img_array_encoded = np.zeros((img_height, img_width, img_channels), np.float32)\n",
    "    \n",
    "    for channel in range(img_channels):\n",
    "        vis0 = np.zeros((img_height, img_width), np.float32)\n",
    "        vis0[:img_height, :img_width] = img_array[:, :, channel]\n",
    "\n",
    "        for row in range(int(img_height / DCT_BLOCK_SIZE)):\n",
    "            for col in range(int(img_width / DCT_BLOCK_SIZE)):\n",
    "                block = vis0[\n",
    "                    row * DCT_BLOCK_SIZE : (row + 1) * DCT_BLOCK_SIZE,\n",
    "                    col * DCT_BLOCK_SIZE : (col + 1) * DCT_BLOCK_SIZE,\n",
    "                ]\n",
    "                encoded_block = cv2.dct(block)\n",
    "\n",
    "                img_array_encoded[\n",
    "                    row * DCT_BLOCK_SIZE : (row + 1) * DCT_BLOCK_SIZE,\n",
    "                    col * DCT_BLOCK_SIZE : (col + 1) * DCT_BLOCK_SIZE,\n",
    "                    channel,\n",
    "                ] = encoded_block\n",
    "\n",
    "    return np.around(img_array_encoded)"
   ]
  },
  {
   "cell_type": "markdown",
   "metadata": {},
   "source": [
    "### Watermark embedding"
   ]
  },
  {
   "cell_type": "code",
   "execution_count": null,
   "metadata": {},
   "outputs": [],
   "source": [
    "def watermark_embeding(array: np.ndarray, message_mask: np.ndarray):\n",
    "    zero_diagonal_mask = create_zero_diagonal_mask(array.shape)\n",
    "    result = array * zero_diagonal_mask \n",
    "    result += message_mask\n",
    "    return result\n",
    "\n",
    "def create_watermark_circuit(img_size):\n",
    "    fhe_compiler = fhe.Compiler(\n",
    "        function=watermark_embeding,\n",
    "        parameter_encryption_statuses={\n",
    "            \"array\": \"encrypted\",\n",
    "            \"message_mask\": \"clear\"\n",
    "        }\n",
    "    )\n",
    "\n",
    "    inputset_for_compiler = create_inputset_for_circuit(img_size)\n",
    "    circuit = fhe_compiler.compile(inputset_for_compiler)\n",
    "    return circuit\n",
    "\n",
    "def get_watermarked_array(\n",
    "    watermark_circuit, img_array, watermark_text\n",
    "):\n",
    "\n",
    "    array = np.copy(img_array[:, :, 1]).astype(np.int16)\n",
    "    watermark_mask = create_watermark_mask(watermark_text, array.shape)\n",
    "\n",
    "\n",
    "    watermarked_array = watermark_circuit.encrypt_run_decrypt(\n",
    "        array, watermark_mask\n",
    "    )\n",
    "\n",
    "    img_array[:, :, 1] = watermarked_array.astype(np.float32)\n",
    "\n",
    "    return img_array"
   ]
  },
  {
   "cell_type": "markdown",
   "metadata": {},
   "source": [
    "### Image postprocessing"
   ]
  },
  {
   "cell_type": "markdown",
   "metadata": {},
   "source": [
    "#### DCT decode"
   ]
  },
  {
   "cell_type": "code",
   "execution_count": null,
   "metadata": {},
   "outputs": [],
   "source": [
    "def image_dct_decode(img_array, block_size=8):\n",
    "    img_array_encoded = np.copy(img_array)\n",
    "    img_height = img_array_encoded.shape[0]\n",
    "    img_width = img_array_encoded.shape[1]\n",
    "    img_channels = img_array_encoded.shape[2]\n",
    "\n",
    "    img_array_decoded = np.zeros((img_height, img_width, img_channels), np.float32)\n",
    "\n",
    "    for channel in range(img_channels):\n",
    "        vis0 = np.zeros((img_height, img_width), np.float32)\n",
    "        vis0[:img_height, :img_width] = img_array_encoded[:, :, channel]\n",
    "\n",
    "        for row in range(int(img_height / block_size)):\n",
    "            for col in range(int(img_width / block_size)):\n",
    "                block = vis0[\n",
    "                    row * block_size : (row + 1) * block_size,\n",
    "                    col * block_size : (col + 1) * block_size,\n",
    "                ]\n",
    "                decoded_block = cv2.idct(block)                \n",
    "\n",
    "                img_array_decoded[\n",
    "                    row * block_size : (row + 1) * block_size,\n",
    "                    col * block_size : (col + 1) * block_size,\n",
    "                    channel,\n",
    "                ] = decoded_block\n",
    "\n",
    "    return img_array_decoded"
   ]
  },
  {
   "cell_type": "markdown",
   "metadata": {},
   "source": [
    "#### Convert to RGB array"
   ]
  },
  {
   "cell_type": "code",
   "execution_count": null,
   "metadata": {},
   "outputs": [],
   "source": [
    "def round_array_data(img_array):\n",
    "    img_array[img_array > 255] = 255\n",
    "    img_array[img_array < 0] = 0\n",
    "    return np.around(img_array).astype(np.uint8)"
   ]
  },
  {
   "cell_type": "markdown",
   "metadata": {},
   "source": [
    "### Save watermarked image"
   ]
  },
  {
   "cell_type": "code",
   "execution_count": null,
   "metadata": {},
   "outputs": [],
   "source": [
    "def save_watermark_image(img_array, image_path):\n",
    "    img = Image.fromarray(img_array)\n",
    "    img.save(image_path)"
   ]
  },
  {
   "cell_type": "markdown",
   "metadata": {},
   "source": [
    "### Full pipeline"
   ]
  },
  {
   "cell_type": "code",
   "execution_count": null,
   "metadata": {},
   "outputs": [],
   "source": [
    "def embed_watermark_to_image(image_path, image_size, watermark_message, watermarked_image_path):\n",
    "    img_array = load_image(image_path, image_size)\n",
    "    img_array_dct_encoded = image_dct_encode(img_array)\n",
    "\n",
    "\n",
    "    watermark_circuit = create_watermark_circuit(image_size)\n",
    "\n",
    "    img_array_dct_encoded_with_watermark = get_watermarked_array(\n",
    "        watermark_circuit, img_array_dct_encoded, watermark_message\n",
    "    )\n",
    "\n",
    "    img_array_with_watermark = image_dct_decode(\n",
    "        img_array_dct_encoded_with_watermark\n",
    "    )\n",
    "\n",
    "    img_array_with_watermark = round_array_data(img_array_with_watermark)\n",
    "\n",
    "    save_watermark_image(img_array_with_watermark, watermarked_image_path)"
   ]
  },
  {
   "cell_type": "markdown",
   "metadata": {},
   "source": [
    "### Invisibility check"
   ]
  },
  {
   "cell_type": "code",
   "execution_count": null,
   "metadata": {},
   "outputs": [],
   "source": [
    "def calculate_psnr(img_path, watermarked_img_path, img_size, max_value=255):\n",
    "    img_array = load_image(img_path, img_size)\n",
    "    watermarked_img_array = load_image(watermarked_img_path, img_size)\n",
    "\n",
    "    mse = np.mean(\n",
    "        (img_array - watermarked_img_array) ** 2\n",
    "    )\n",
    "    if mse == 0:\n",
    "        return 100\n",
    "    return 20 * np.log10(max_value / (np.sqrt(mse)))"
   ]
  },
  {
   "cell_type": "code",
   "execution_count": null,
   "metadata": {},
   "outputs": [],
   "source": [
    "watermarking_data = {}\n",
    "\n",
    "for image_name in IMAGES:\n",
    "    image_path = IMAGE_NAME_PATTERN.format(image_name)\n",
    "    image_data = []\n",
    "    psnr_data = []\n",
    "    for i in range(ITERATIONS):\n",
    "        message = generate_random_text(15)\n",
    "        watermarked_image_path = WATERMARKED_IMAGES_NAME_PATTERN.format(image_name, message)\n",
    "        embed_watermark_to_image(image_path, IMAGE_SIZE, message, watermarked_image_path)\n",
    "        psnr = calculate_psnr(image_path, watermarked_image_path, IMAGE_SIZE)\n",
    "\n",
    "        image_data.append(\n",
    "            {\n",
    "                \"message\": message,\n",
    "                \"watermarked_image_path\": watermarked_image_path,\n",
    "            }\n",
    "        )\n",
    "        psnr_data.append(psnr)\n",
    "\n",
    "    watermarking_data[image_name] = image_data\n",
    "    print (f'Average PNSR for image \"{image_name}\" is {sum(psnr_data) / ITERATIONS}')\n"
   ]
  },
  {
   "cell_type": "markdown",
   "metadata": {},
   "source": [
    "## Watermark verification"
   ]
  },
  {
   "cell_type": "markdown",
   "metadata": {},
   "source": [
    "### FHE functions"
   ]
  },
  {
   "cell_type": "code",
   "execution_count": null,
   "metadata": {},
   "outputs": [],
   "source": [
    "def check_watermark(array: np.ndarray, verification_mask: np.ndarray):\n",
    "    errors_array = array * verification_mask\n",
    "    errors = np.sum(errors_array)\n",
    "\n",
    "    return errors\n",
    "\n",
    "def create_verification_circuit(img_size):\n",
    "    fhe_compiler = fhe.Compiler(\n",
    "        function=check_watermark,\n",
    "        parameter_encryption_statuses={\n",
    "            \"array\": \"encrypted\",\n",
    "            \"verification_mask\": \"clear\"\n",
    "        }\n",
    "    )\n",
    "\n",
    "    inputset_for_compiler = create_inputset_for_circuit(img_size)\n",
    "    circuit = fhe_compiler.compile(inputset_for_compiler)\n",
    "    return circuit"
   ]
  },
  {
   "cell_type": "markdown",
   "metadata": {},
   "source": [
    "#### Full pipeline"
   ]
  },
  {
   "cell_type": "code",
   "execution_count": null,
   "metadata": {},
   "outputs": [],
   "source": [
    "def is_watermarked_image_with_text(img_path, img_size, watermark_text):\n",
    "    verification_circuit = create_verification_circuit(img_size)\n",
    "    verification_mask = create_verification_mask(watermark_text, img_size)\n",
    "\n",
    "    watermarked_img_array = load_image(img_path, img_size)\n",
    "    watermarked_img_array_dct_encoded = image_dct_encode(watermarked_img_array)\n",
    "    array = watermarked_img_array_dct_encoded[:, :, 1].astype(np.int16)\n",
    "\n",
    "    score = verification_circuit.encrypt_run_decrypt(array, verification_mask)\n",
    "    return score < 50"
   ]
  },
  {
   "cell_type": "markdown",
   "metadata": {},
   "source": [
    "### Check watermark correctness"
   ]
  },
  {
   "cell_type": "markdown",
   "metadata": {},
   "source": [
    "#### False negative check\n",
    "\n",
    "Texts from watermarking stage should pass verification"
   ]
  },
  {
   "cell_type": "code",
   "execution_count": null,
   "metadata": {},
   "outputs": [],
   "source": [
    "errors = []\n",
    "\n",
    "for image_name in IMAGES:\n",
    "    for image_data in watermarking_data[image_name]:\n",
    "        print (f'Checking file \"{image_data[\"watermarked_image_path\"]}\"')\n",
    "        if not is_watermarked_image_with_text(\n",
    "            image_data[\"watermarked_image_path\"], \n",
    "            IMAGE_SIZE,\n",
    "            image_data[\"message\"] \n",
    "        ):\n",
    "            errors.append(image_data)\n",
    "\n",
    "if not errors:\n",
    "    print (\"No watermarking errors\")\n",
    "else:\n",
    "    print (f\"Found {len(errors)} errors\")\n",
    "    print (errors)"
   ]
  },
  {
   "cell_type": "markdown",
   "metadata": {},
   "source": [
    "#### False positive check\n",
    "\n",
    "Random text should fail ferification check"
   ]
  },
  {
   "cell_type": "code",
   "execution_count": null,
   "metadata": {},
   "outputs": [],
   "source": [
    "errors = []\n",
    "\n",
    "for image_name in IMAGES:\n",
    "    for image_data in watermarking_data[image_name]:\n",
    "        print (f'Checking file \"{image_data[\"watermarked_image_path\"]}\"')\n",
    "        for i in range(ITERATIONS):\n",
    "            random_text = generate_random_text(15)\n",
    "\n",
    "            if is_watermarked_image_with_text(\n",
    "                image_data[\"watermarked_image_path\"], \n",
    "                IMAGE_SIZE,\n",
    "                random_text\n",
    "            ):\n",
    "                errors.append(image_data)\n",
    "\n",
    "if not errors:\n",
    "    print (\"No watermarking errors\")\n",
    "else:\n",
    "    print (f\"Found {len(errors)} errors\")\n",
    "    print (errors)"
   ]
  }
 ],
 "metadata": {
  "kernelspec": {
   "display_name": "Python 3 (ipykernel)",
   "language": "python",
   "name": "python3"
  },
  "language_info": {
   "codemirror_mode": {
    "name": "ipython",
    "version": 3
   },
   "file_extension": ".py",
   "mimetype": "text/x-python",
   "name": "python",
   "nbconvert_exporter": "python",
   "pygments_lexer": "ipython3",
   "version": "3.8.10"
  }
 },
 "nbformat": 4,
 "nbformat_minor": 2
}
